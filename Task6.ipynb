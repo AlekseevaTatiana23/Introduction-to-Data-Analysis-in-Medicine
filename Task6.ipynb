{
  "cells": [
    {
      "cell_type": "markdown",
      "id": "767c43a2",
      "metadata": {
        "id": "767c43a2"
      },
      "source": [
        "# Проект по итогам курса: Анализ данных SRR12905311\n",
        "1. Описание исследования\n",
        "\n",
        "\n",
        "Исследование:\n",
        "\n",
        "Данный набор данных SRR12905311 взят из базы SRA и содержит секвенированные риды бактерии Escherichia coli (или другого микроорганизма, в зависимости от конкретных данных). Обычно такие данные используются для изучения генетической вариации в штаммах бактерий, например, для поиска мутаций, связанных с устойчивостью к антибиотикам или адаптацией к окружающей среде.\n",
        "\n",
        "Источник:  \n",
        "\n",
        "SRA: SRR12905311\n",
        "\n",
        "GEO: GSM4862160 (ссылка на соответствующий GEO-объект, подтверждающий тип исследования и условия)\n",
        "\n",
        "Общий смысл:\n",
        "\n",
        "Исследование направлено на выявление генетических мутаций в бактериальных геномах, что помогает понять механизмы адаптации и устойчивости."
      ]
    },
    {
      "cell_type": "markdown",
      "source": [
        "2. Загрузка и подготовка данных\n",
        "\n",
        "Шаг 1. Скачать данные из SRA"
      ],
      "metadata": {
        "id": "7KksbZGaTcBP"
      },
      "id": "7KksbZGaTcBP"
    },
    {
      "cell_type": "code",
      "execution_count": 23,
      "id": "c884826d",
      "metadata": {
        "id": "c884826d",
        "colab": {
          "base_uri": "https://localhost:8080/"
        },
        "outputId": "cd2c49a8-36c2-44ed-9f22-51f8478a4ea1"
      },
      "outputs": [
        {
          "output_type": "stream",
          "name": "stdout",
          "text": [
            "Warning::Spark Session already created, some configs may not take.\n",
            "ner_jsl download started this may take some time.\n",
            "Can not find the model to download please check the name!\n",
            "Модель 'ner_jsl' успешно загружена.\n",
            "Модель не была успешно загружена.\n"
          ]
        }
      ],
      "source": [
        "from sparknlp.base import *\n",
        "from sparknlp.annotator import *\n",
        "from pyspark.sql import SparkSession\n",
        "\n",
        "spark = SparkSession.builder \\\n",
        "    .appName(\"MedicalNER\") \\\n",
        "    .master(\"local[*]\") \\\n",
        "    .config(\"spark.driver.memory\", \"4G\") \\\n",
        "    .getOrCreate()\n",
        "\n",
        "import sparknlp\n",
        "sparknlp.start()\n",
        "\n",
        "# Ваш текст\n",
        "medical_text = \"\"\"\n",
        "Fibrodysplasia ossificans progressiva (FOP) is a rare and progressively debilitating disorder\n",
        "affecting 1 in 2 million individuals. It is characterized by the progressive ossification of soft tissues into ectopic bone and congenital malformations of the great toes.\n",
        "FOP leads to significant disability and can result in death due to thoracic insufficiency syndrome. These case reports examine the presentation, diagnosis, and management\n",
        "of FOP, highlighting the diagnostic challenges inherent in managing such rare conditions because of their unique clinical features. They underscore the need for increased\n",
        "awareness among healthcare practitioners to ensure early diagnosis and the implementation of effective management strategies.\n",
        "\"\"\"\n",
        "\n",
        "# Загрузка модели\n",
        "try:\n",
        "    ner_model = NerDLModel.pretrained(\"ner_jsl\", \"en\")\n",
        "    print(\"Модель 'ner_jsl' успешно загружена.\")\n",
        "except Exception as e:\n",
        "    print(f\"Ошибка при загрузке модели 'ner_jsl': {e}\")\n",
        "\n",
        "if ner_model:\n",
        "    # Создаем этапы обработки\n",
        "    document_assembler = DocumentAssembler() \\\n",
        "        .setInputCol(\"text\") \\\n",
        "        .setOutputCol(\"document\")\n",
        "\n",
        "    sentence_detector = SentenceDetector() \\\n",
        "        .setInputCols([\"document\"]) \\\n",
        "        .setOutputCol(\"sentences\")\n",
        "\n",
        "    tokenizer = Tokenizer() \\\n",
        "        .setInputCols([\"sentences\"]) \\\n",
        "        .setOutputCol(\"tokens\")\n",
        "\n",
        "    ner_tagger = ner_model.setInputCols([\"sentences\", \"tokens\"]) \\\n",
        "                          .setOutputCol(\"ner\")\n",
        "\n",
        "    pipeline = Pipeline(stages=[\n",
        "        document_assembler,\n",
        "        sentence_detector,\n",
        "        tokenizer,\n",
        "        ner_tagger\n",
        "    ])\n",
        "\n",
        "    data = spark.createDataFrame([[medical_text]]).toDF(\"text\")\n",
        "\n",
        "    model_pipeline = pipeline.fit(data)\n",
        "    result_df = model_pipeline.transform(data)\n",
        "\n",
        "    result_df.selectExpr(\"explode(ner) as ner_result\") \\\n",
        "        .select(\"ner_result.*\") \\\n",
        "        .show(truncate=False)\n",
        "else:\n",
        "    print(\"Модель не была успешно загружена.\")"
      ]
    },
    {
      "cell_type": "code",
      "source": [
        "from sparknlp.base import *\n",
        "from sparknlp.annotator import *\n",
        "from pyspark.ml import Pipeline\n",
        "from pyspark.sql.functions import explode, col\n",
        "\n",
        "# Создаем компоненты\n",
        "document_assembler = DocumentAssembler() \\\n",
        "    .setInputCol(\"text\") \\\n",
        "    .setOutputCol(\"documents\")\n",
        "\n",
        "tokenizer = Tokenizer() \\\n",
        "    .setInputCols([\"documents\"]) \\\n",
        "    .setOutputCol(\"tokens\")\n",
        "\n",
        "# Загружаем модель NER\n",
        "ner_model = BertForTokenClassification.pretrained(\"bert_finetuned_ner_clinical_plncmm_large_22\", \"en\") \\\n",
        "    .setInputCols([\"documents\", \"tokens\"]) \\\n",
        "    .setOutputCol(\"ner\")\n",
        "\n",
        "# Создаем pipeline\n",
        "pipeline = Pipeline(stages=[\n",
        "    document_assembler,\n",
        "    tokenizer,\n",
        "    ner_model\n",
        "])\n",
        "\n",
        "# Текст статьи или фрагмента\n",
        "text = \"\"\"\n",
        "A 35-year-old woman diagnosed with fibrodysplasia ossificans progressiva (FOP) presented with progressive heterotopic ossification. The condition is characterized by abnormal bone formation outside the skeleton, often following trauma. Treatment options remain limited.\n",
        "\"\"\"\n",
        "\n",
        "# Создаем DataFrame\n",
        "data = spark.createDataFrame([[text]]).toDF(\"text\")\n",
        "\n",
        "# Обучение и применение модели\n",
        "pipeline_model = pipeline.fit(data)\n",
        "result = pipeline_model.transform(data)\n",
        "\n",
        "# Обработка результатов\n",
        "# Распаковать массив сущностей\n",
        "entities = result.select(explode(col(\"ner\")).alias(\"entity\")) \\\n",
        "    .select(\n",
        "        col(\"entity.result\").alias(\"entity_text\"),\n",
        "        col(\"entity.metadata\").getItem(\"entity\").alias(\"entity_type\")\n",
        "    )\n",
        "\n",
        "entities.show(truncate=False)"
      ],
      "metadata": {
        "colab": {
          "base_uri": "https://localhost:8080/"
        },
        "id": "zBaB_e_tuc4_",
        "outputId": "19909cf6-7d2c-4766-d4f8-2be1d827cf3b"
      },
      "id": "zBaB_e_tuc4_",
      "execution_count": 30,
      "outputs": [
        {
          "output_type": "stream",
          "name": "stdout",
          "text": [
            "bert_finetuned_ner_clinical_plncmm_large_22 download started this may take some time.\n",
            "Approximate size to download 390.7 MB\n",
            "[OK!]\n",
            "+-----------+-----------+\n",
            "|entity_text|entity_type|\n",
            "+-----------+-----------+\n",
            "|O          |NULL       |\n",
            "|O          |NULL       |\n",
            "|O          |NULL       |\n",
            "|O          |NULL       |\n",
            "|O          |NULL       |\n",
            "|B-Disease  |NULL       |\n",
            "|I-Disease  |NULL       |\n",
            "|O          |NULL       |\n",
            "|O          |NULL       |\n",
            "|O          |NULL       |\n",
            "|O          |NULL       |\n",
            "|O          |NULL       |\n",
            "|O          |NULL       |\n",
            "|O          |NULL       |\n",
            "|O          |NULL       |\n",
            "|O          |NULL       |\n",
            "|O          |NULL       |\n",
            "|O          |NULL       |\n",
            "|O          |NULL       |\n",
            "|O          |NULL       |\n",
            "+-----------+-----------+\n",
            "only showing top 20 rows\n",
            "\n"
          ]
        }
      ]
    }
  ],
  "metadata": {
    "colab": {
      "provenance": []
    },
    "kernelspec": {
      "display_name": "Python 3 (ipykernel)",
      "language": "python",
      "name": "python3"
    },
    "language_info": {
      "codemirror_mode": {
        "name": "ipython",
        "version": 3
      },
      "file_extension": ".py",
      "mimetype": "text/x-python",
      "name": "python",
      "nbconvert_exporter": "python",
      "pygments_lexer": "ipython3",
      "version": "3.11.5"
    }
  },
  "nbformat": 4,
  "nbformat_minor": 5
}