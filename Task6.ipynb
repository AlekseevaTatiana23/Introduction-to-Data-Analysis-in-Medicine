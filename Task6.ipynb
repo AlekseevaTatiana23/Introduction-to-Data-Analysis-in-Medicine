{
  "cells": [
    {
      "cell_type": "markdown",
      "id": "767c43a2",
      "metadata": {
        "id": "767c43a2"
      },
      "source": [
        "# Урок 6. Типы медицинских данных\n",
        "Домашнее задание: John Snow Labs предоставляют простой и унифицированный API Python для обработки текстовых данных с помощью NLP на профессиональном уровне.\n",
        "\n",
        "Изучите одно из предлагаемых решений процессинга клинических данных по поиску именованных сущностей (NER).\n",
        "https://colab.research.google.com/github/JohnSnowLabs/spark-nlp-workshop/blob/master/tutorials/Certification_Trainings/Healthcare/1.Clinical_Named_Entity_Recognition_Model.ipynb\n",
        "\n",
        "Протестируйте распознавание моделью терминов на тексте из какой-либо статьи раздела Case Reports в PubMed NCBI."
      ]
    },
    {
      "cell_type": "code",
      "source": [
        "from sparknlp.base import *\n",
        "from sparknlp.annotator import *\n",
        "from pyspark.ml import Pipeline\n",
        "from pyspark.sql.functions import explode, col\n",
        "\n",
        "# Создаем компоненты\n",
        "document_assembler = DocumentAssembler() \\\n",
        "    .setInputCol(\"text\") \\\n",
        "    .setOutputCol(\"documents\")\n",
        "\n",
        "tokenizer = Tokenizer() \\\n",
        "    .setInputCols([\"documents\"]) \\\n",
        "    .setOutputCol(\"tokens\")\n",
        "\n",
        "# Загружаем модель NER\n",
        "ner_model = BertForTokenClassification.pretrained(\"bert_finetuned_ner_clinical_plncmm_large_22\", \"en\") \\\n",
        "    .setInputCols([\"documents\", \"tokens\"]) \\\n",
        "    .setOutputCol(\"ner\")\n",
        "\n",
        "# Создаем pipeline\n",
        "pipeline = Pipeline(stages=[\n",
        "    document_assembler,\n",
        "    tokenizer,\n",
        "    ner_model\n",
        "])\n",
        "\n",
        "# Текст статьи или фрагмента\n",
        "text = \"\"\"\n",
        "A 35-year-old woman diagnosed with fibrodysplasia ossificans progressiva (FOP) presented with progressive heterotopic ossification. The condition is characterized by abnormal bone formation outside the skeleton, often following trauma. Treatment options remain limited.\n",
        "\"\"\"\n",
        "\n",
        "# Создаем DataFrame\n",
        "data = spark.createDataFrame([[text]]).toDF(\"text\")\n",
        "\n",
        "# Обучение и применение модели\n",
        "pipeline_model = pipeline.fit(data)\n",
        "result = pipeline_model.transform(data)\n",
        "\n",
        "# Обработка результатов\n",
        "# Распаковать массив сущностей\n",
        "entities = result.select(explode(col(\"ner\")).alias(\"entity\")) \\\n",
        "    .select(\n",
        "        col(\"entity.result\").alias(\"entity_text\"),\n",
        "        col(\"entity.metadata\").getItem(\"entity\").alias(\"entity_type\")\n",
        "    )\n",
        "\n",
        "entities.show(truncate=False)"
      ],
      "metadata": {
        "colab": {
          "base_uri": "https://localhost:8080/"
        },
        "id": "zBaB_e_tuc4_",
        "outputId": "19909cf6-7d2c-4766-d4f8-2be1d827cf3b"
      },
      "id": "zBaB_e_tuc4_",
      "execution_count": 30,
      "outputs": [
        {
          "output_type": "stream",
          "name": "stdout",
          "text": [
            "bert_finetuned_ner_clinical_plncmm_large_22 download started this may take some time.\n",
            "Approximate size to download 390.7 MB\n",
            "[OK!]\n",
            "+-----------+-----------+\n",
            "|entity_text|entity_type|\n",
            "+-----------+-----------+\n",
            "|O          |NULL       |\n",
            "|O          |NULL       |\n",
            "|O          |NULL       |\n",
            "|O          |NULL       |\n",
            "|O          |NULL       |\n",
            "|B-Disease  |NULL       |\n",
            "|I-Disease  |NULL       |\n",
            "|O          |NULL       |\n",
            "|O          |NULL       |\n",
            "|O          |NULL       |\n",
            "|O          |NULL       |\n",
            "|O          |NULL       |\n",
            "|O          |NULL       |\n",
            "|O          |NULL       |\n",
            "|O          |NULL       |\n",
            "|O          |NULL       |\n",
            "|O          |NULL       |\n",
            "|O          |NULL       |\n",
            "|O          |NULL       |\n",
            "|O          |NULL       |\n",
            "+-----------+-----------+\n",
            "only showing top 20 rows\n",
            "\n"
          ]
        }
      ]
    }
  ],
  "metadata": {
    "colab": {
      "provenance": []
    },
    "kernelspec": {
      "display_name": "Python 3 (ipykernel)",
      "language": "python",
      "name": "python3"
    },
    "language_info": {
      "codemirror_mode": {
        "name": "ipython",
        "version": 3
      },
      "file_extension": ".py",
      "mimetype": "text/x-python",
      "name": "python",
      "nbconvert_exporter": "python",
      "pygments_lexer": "ipython3",
      "version": "3.11.5"
    }
  },
  "nbformat": 4,
  "nbformat_minor": 5
}